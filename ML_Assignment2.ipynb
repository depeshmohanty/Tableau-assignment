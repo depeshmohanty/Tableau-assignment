{
 "cells": [
  {
   "cell_type": "markdown",
   "metadata": {},
   "source": [
    "Q-1 What is the concept of human learning? Please give two examples"
   ]
  },
  {
   "cell_type": "raw",
   "metadata": {},
   "source": [
    "Human learning is a process of acquiring knowledge. Our behavior, skills, values and ethics are acquired when we process \n",
    "information through our minds and learn. Human learning may occur as part of education, personal development or any other \n",
    "informal/formal training. Children learn while they play, experiment, and interact. However, the process of learning is a \n",
    "continuous process.\n",
    "when we see a dog and attach the term 'dog', we learn that the word dog refers to a particular animal."
   ]
  },
  {
   "cell_type": "markdown",
   "metadata": {},
   "source": [
    "2. What different forms of human learning are there? Are there any machine learning equivalents?"
   ]
  },
  {
   "cell_type": "raw",
   "metadata": {},
   "source": [
    "different forms are motor learning , verbal learning, concept learning, discrimination learning, problem solving,attitude \n",
    "learning.\n",
    "As a human we tend to learn every time continuosly.As in ML model machine try to learn from past data and sometimes also without\n",
    "any past labelled data as in unsupervised model, exactly like that human also sometimes learn without past data, also learns with past\n",
    "experience as ml model does in reinforcement learning."
   ]
  },
  {
   "cell_type": "markdown",
   "metadata": {},
   "source": [
    "3. What is machine learning, and how does it work? What are the key responsibilities of machine learning?"
   ]
  },
  {
   "cell_type": "raw",
   "metadata": {},
   "source": [
    "Machine learning is a method of data analysis that automates analytical model building. It is a branch of artificial \n",
    "intelligence based on the idea that systems can learn from data, identify patterns and make decisions with minimal human \n",
    "intervention.\n",
    "Key responsibilities are:\n",
    "Data gathering\n",
    "Data preprocessing\n",
    "Exploratory data analysis (EDA)\n",
    "Feature engineering\n",
    "Training machine learning models\n",
    "Model / Algorithm selection\n",
    "Testing and matching\n",
    "Model monitoring\n",
    "Model retraining"
   ]
  },
  {
   "cell_type": "markdown",
   "metadata": {},
   "source": [
    "4. Define the terms \"penalty\" and \"reward\" in the context of reinforcement learning"
   ]
  },
  {
   "cell_type": "raw",
   "metadata": {},
   "source": [
    "A reinforcement learning algorithm, which may also be referred to as an agent, learns by interacting with its environment.\n",
    "The agent receives rewards by performing correctly and penalties for performing incorrectly. The agent learns without \n",
    "intervention from a human by maximizing its reward and minimizing its penalty"
   ]
  },
  {
   "cell_type": "markdown",
   "metadata": {},
   "source": [
    "5. Explain the term \"learning as a search\"?"
   ]
  },
  {
   "cell_type": "raw",
   "metadata": {},
   "source": [
    "The application of machine learning is best thought of as search problem for the best mapping of inputs to outputs given\n",
    "the knowledge and resources available to you for a given project.\n",
    "Applied machine learning is challenging because the designing of a perfect learning system for a given problem is intractable.\n",
    "There is no best training data or best algorithm for your problem, only the best that you can discover."
   ]
  },
  {
   "cell_type": "markdown",
   "metadata": {},
   "source": [
    "6. What are the various goals of machine learning? What is the relationship between these and human learning?"
   ]
  },
  {
   "cell_type": "raw",
   "metadata": {},
   "source": [
    "The main goal of machine learning is to give computers the ability to learn itself without being explicitly programmed.\n",
    "It identifies patterns from preprocessed data and make decisions with minimal human intervention.\n",
    "Human learning process varies from person to person. ... Humans acquire knowledge through experience either directly or shared\n",
    "by others. Machines acquire knowledge through experience shared in the form of past data. We have the terms, Knowledge, Skill,\n",
    "and Memory being used to define intelligence"
   ]
  },
  {
   "cell_type": "markdown",
   "metadata": {},
   "source": [
    "7. Illustrate the various elements of machine learning using a real-life illustration"
   ]
  },
  {
   "cell_type": "raw",
   "metadata": {},
   "source": [
    "Email Spam and Malware Filtering\n",
    "\n",
    "There are a number of spam filtering approaches that email clients use. To ascertain that these spam filters are continuously \n",
    "updated, they are powered by machine learning. When rule-based spam filtering is done, it fails to track the latest tricks \n",
    "adopted by spammers. Multi Layer Perceptron, C 4.5 Decision Tree Induction are some of the spam filtering techniques that \n",
    "are powered by ML.\n",
    "Over 325,000 malwares are detected everyday and each piece of code is 90-98% similar to its previous versions. The system \n",
    "security programs that are powered by machine learning understand the coding pattern. Therefore, they detects new malware\n",
    "with 2-10% variation easily and offer protection against them. "
   ]
  },
  {
   "cell_type": "markdown",
   "metadata": {},
   "source": [
    "8. Provide an example of the abstraction method."
   ]
  },
  {
   "cell_type": "raw",
   "metadata": {},
   "source": [
    "Abstraction is defined as dealing with ideas instead of events. In the context of AI, that means worrying more about what the \n",
    "right algorithm is and less about how to implement it. Another way of looking at it, for those technically inclined, is as an \n",
    "API call (abstracted) vs. a self implemented function or series of functions"
   ]
  },
  {
   "cell_type": "markdown",
   "metadata": {},
   "source": [
    "9. What is the concept of generalization? What function does it play in the machine learning process?"
   ]
  },
  {
   "cell_type": "raw",
   "metadata": {},
   "source": [
    "In machine learning, generalization is a definition to demonstrate how well is a trained model to classify or forecast unseen \n",
    "data. Training a generalized machine learning model means, in general, it works for all subset of unseen data. An example is \n",
    "when we train a model to classify between dogs and cats. If the model is provided with dogs images dataset with only two breeds,\n",
    "it may obtain a good performance. But, it possibly gets a low classification score when it is tested by other breeds of dogs as \n",
    "well. This issue can result to classify an actual dog image as a cat from the unseen dataset.\n",
    "Generalization is a measure of how your model performs on predicting unseen data. So, it is important to come up with the best-generalized model to give better performance against future data."
   ]
  },
  {
   "cell_type": "markdown",
   "metadata": {},
   "source": [
    "10.What is classification, exactly? What are the main distinctions between classification and regression?"
   ]
  },
  {
   "cell_type": "raw",
   "metadata": {},
   "source": [
    "In machine learning, classification refers to a predictive modeling problem where a class label is predicted for a given \n",
    "example of input data. Examples of classification problems include: Given an example, classify if it is spam or not.\n",
    "Classification is the task of predicting a discrete class label.\n",
    "Regression is the task of predicting a continuous quantity."
   ]
  },
  {
   "cell_type": "markdown",
   "metadata": {},
   "source": [
    "11. What is regression, and how does it work? Give an example of a real-world problem that was solved using regression."
   ]
  },
  {
   "cell_type": "raw",
   "metadata": {},
   "source": [
    "Regression analysis is a statistical method to model the relationship between a dependent (target) and independent (predictor)\n",
    "variables with one or more independent variables. More specifically, Regression analysis helps us to understand how the value \n",
    "of the dependent variable is changing corresponding to an independent variable when other independent variables are held fixed.\n",
    "Example: Suppose there is a marketing company A, who does various advertisement every year and get sales on that. \n",
    "    Now, the company wants to do the advertisement of $200 in the year 2019 and wants to know the prediction about the sales \n",
    "    for this year. So to solve such type of prediction problems in machine learning, we need regression analysis."
   ]
  },
  {
   "cell_type": "markdown",
   "metadata": {},
   "source": [
    "12. Describe the clustering mechanism in detail"
   ]
  },
  {
   "cell_type": "raw",
   "metadata": {},
   "source": [
    "Clustering is the task of dividing the population or data points into a number of groups such that data points in the same \n",
    "groups are more similar to other data points in the same group than those in other groups. In simple words, the aim is to\n",
    "segregate groups with similar traits and assign them into clusters.\n",
    "Let’s understand this with an example. Suppose, you are the head of a rental store and wish to understand preferences of your \n",
    "costumers to scale up your business. Is it possible for you to look at details of each costumer and devise a unique business\n",
    "strategy for each one of them? Definitely not. But, what you can do is to cluster all of your costumers into say 10 groups \n",
    "based on their purchasing habits and use a separate strategy for costumers in each of these 10 groups. And this is what we \n",
    "call clustering."
   ]
  },
  {
   "cell_type": "raw",
   "metadata": {},
   "source": [
    "13.(i)Machine learning algorithms are used -- supervised ,unsupervised ,reinforcement\n",
    " (ii)Studying under supervision --- This algorithm consist of a target / outcome variable (or dependent variable) which is to \n",
    "    be predicted from a given set of predictors (independent variables). Using these set of variables, we generate a function\n",
    "    that map inputs to desired outputs. The training process continues until the model achieves a desired level of accuracy on\n",
    "    the training data. Examples of Supervised Learning: Regression, Decision Tree, Random Forest, KNN, Logistic Regression etc."
   ]
  },
  {
   "cell_type": "code",
   "execution_count": null,
   "metadata": {},
   "outputs": [],
   "source": []
  }
 ],
 "metadata": {
  "kernelspec": {
   "display_name": "Python 3",
   "language": "python",
   "name": "python3"
  },
  "language_info": {
   "codemirror_mode": {
    "name": "ipython",
    "version": 3
   },
   "file_extension": ".py",
   "mimetype": "text/x-python",
   "name": "python",
   "nbconvert_exporter": "python",
   "pygments_lexer": "ipython3",
   "version": "3.7.4"
  }
 },
 "nbformat": 4,
 "nbformat_minor": 4
}
